{
  "nbformat": 4,
  "nbformat_minor": 0,
  "metadata": {
    "colab": {
      "provenance": [],
      "collapsed_sections": [],
      "authorship_tag": "ABX9TyPhdxhBLfCzli0j7oFrTr73",
      "include_colab_link": true
    },
    "kernelspec": {
      "name": "python3",
      "display_name": "Python 3"
    },
    "language_info": {
      "name": "python"
    }
  },
  "cells": [
    {
      "cell_type": "markdown",
      "metadata": {
        "id": "view-in-github",
        "colab_type": "text"
      },
      "source": [
        "<a href=\"https://colab.research.google.com/github/DularaWijayasundara/qr-and-barcode-reader/blob/main/qr_and_barcode_reader.ipynb\" target=\"_parent\"><img src=\"https://colab.research.google.com/assets/colab-badge.svg\" alt=\"Open In Colab\"/></a>"
      ]
    },
    {
      "cell_type": "markdown",
      "source": [
        "* Install pyzbar  \n",
        "* Import pyzbar and python openCV \n",
        "\n",
        "\n",
        "\n",
        "\n",
        "\n",
        "\n"
      ],
      "metadata": {
        "id": "nCxGHy66dVi9"
      }
    },
    {
      "cell_type": "code",
      "source": [
        "!apt install libzbar0\n"
      ],
      "metadata": {
        "colab": {
          "base_uri": "https://localhost:8080/"
        },
        "id": "_r666uUm7T28",
        "outputId": "1d308c14-aac9-4bb9-8010-537536125f3b"
      },
      "execution_count": 19,
      "outputs": [
        {
          "output_type": "stream",
          "name": "stdout",
          "text": [
            "Reading package lists... Done\n",
            "Building dependency tree       \n",
            "Reading state information... Done\n",
            "libzbar0 is already the newest version (0.10+doc-10.1build2).\n",
            "The following package was automatically installed and is no longer required:\n",
            "  libnvidia-common-460\n",
            "Use 'apt autoremove' to remove it.\n",
            "0 upgraded, 0 newly installed, 0 to remove and 20 not upgraded.\n"
          ]
        }
      ]
    },
    {
      "cell_type": "code",
      "source": [
        "!pip install pyzbar"
      ],
      "metadata": {
        "colab": {
          "base_uri": "https://localhost:8080/"
        },
        "id": "OvS4kMSg7eXF",
        "outputId": "1e9a58f9-83f2-4430-d457-e3b080069d12"
      },
      "execution_count": 20,
      "outputs": [
        {
          "output_type": "stream",
          "name": "stdout",
          "text": [
            "Looking in indexes: https://pypi.org/simple, https://us-python.pkg.dev/colab-wheels/public/simple/\n",
            "Requirement already satisfied: pyzbar in /usr/local/lib/python3.7/dist-packages (0.1.9)\n"
          ]
        }
      ]
    },
    {
      "cell_type": "code",
      "execution_count": 31,
      "metadata": {
        "colab": {
          "base_uri": "https://localhost:8080/",
          "height": 808
        },
        "id": "-3eWn-U26Hkf",
        "outputId": "e93768e4-ff1c-41e7-ac37-1f4db60ed13a"
      },
      "outputs": [
        {
          "output_type": "stream",
          "name": "stdout",
          "text": [
            "Information : \n",
            " Type : QRCODE \n",
            " Barcode : Hi there, I'm Dulara. I did this code to learn openCV :D\n"
          ]
        },
        {
          "output_type": "display_data",
          "data": {
            "text/plain": [
              "<PIL.Image.Image image mode=RGB size=722x722 at 0x7FDA63F2D0D0>"
            ],
            "image/png": "[encoded data removed]"
          },
          "metadata": {}
        },
        {
          "output_type": "execute_result",
          "data": {
            "text/plain": [
              "-1"
            ]
          },
          "metadata": {},
          "execution_count": 31
        }
      ],
      "source": [
        "from pyzbar import pyzbar\n",
        "import cv2\n",
        "from google.colab.patches import cv2_imshow\n",
        "\n",
        "#Enter the qrcode/barcode name here\n",
        "input_image = cv2.imread('welcomeQr.png')\n",
        "#Decode the barcode/qrcode\n",
        "readBarcode = pyzbar.decode(input_image)\n",
        "for barcode in readBarcode:\n",
        "    (x, y, w, h) = barcode.rect\n",
        "    cv2.rectangle(input_image, (x, y), (x + w, y + h), (255, 0, 0), 2)\n",
        "\n",
        "    barcodeData = barcode.data.decode('utf-8')\n",
        "    barcodeType = barcode.type\n",
        "    text = \"{} ( {} )\".format(barcodeData, barcodeType)\n",
        "    cv2.putText(input_image, text, (x, y - 10), cv2.FONT_HERSHEY_COMPLEX, 0.5, (255, 0, 0), 2)\n",
        "\n",
        "    print(\"Information : \\n Type : {} \\n Barcode : {}\".format(barcodeType, barcodeData))\n",
        "\n",
        "#Display the input image\n",
        "cv2_imshow(input_image)\n",
        "cv2.waitKey(0)\n"
      ]
    }
  ]
}